{
  "nbformat": 4,
  "nbformat_minor": 0,
  "metadata": {
    "colab": {
      "provenance": []
    },
    "kernelspec": {
      "name": "python3",
      "display_name": "Python 3"
    },
    "language_info": {
      "name": "python"
    }
  },
  "cells": [
    {
      "cell_type": "code",
      "execution_count": null,
      "metadata": {
        "colab": {
          "base_uri": "https://localhost:8080/"
        },
        "id": "7VOZJO0j6KGp",
        "outputId": "c8acb7c3-5383-4a10-cf49-c1964c4d9bfe"
      },
      "outputs": [
        {
          "output_type": "stream",
          "name": "stdout",
          "text": [
            "Enter number of elements in list: 5\n",
            "enter elements: 24\n",
            "enter elements: 8\n",
            "enter elements: 12\n",
            "enter elements: 44\n",
            "enter elements: 3\n",
            "Largest element is  44\n"
          ]
        }
      ],
      "source": [
        "l = []\n",
        "num = int(input(\"Enter number of elements in list: \"))\n",
        "for i in range(1,num+1):\n",
        "  ele = int(input(\"enter elements: \"))\n",
        "  l.append(ele)\n",
        "print(\"Largest element is \",max(l))"
      ]
    },
    {
      "cell_type": "code",
      "source": [
        "import math\n",
        "def hexagon_area(a):\n",
        "  area = (3*math.sqrt(3)/2)*a*a\n",
        "  return area\n",
        "len = int(input(\"Enter the length of the side of  hexagon: \"))\n",
        "res = hexagon_area(len)\n",
        "print(f\"Area of hexagon = {res:.5f}\")"
      ],
      "metadata": {
        "colab": {
          "base_uri": "https://localhost:8080/"
        },
        "id": "M35fL4fu77r9",
        "outputId": "c7996f53-3575-47f1-cd55-7e6391e15bfb"
      },
      "execution_count": null,
      "outputs": [
        {
          "output_type": "stream",
          "name": "stdout",
          "text": [
            "Enter the length of the side of  hexagon: 5\n",
            "Area of hexagon = 64.95191\n"
          ]
        }
      ]
    },
    {
      "cell_type": "code",
      "source": [
        "import re\n",
        "def is_valid_email(email):\n",
        "  regex = r'\\b[A-Za-z0-9._]+@[A-Za-z0-9.-]+\\.[A-Z|a-z]{2,7}\\b'\n",
        "  if re.match(regex,email):\n",
        "        return True\n",
        "  else:\n",
        "      return False\n",
        "if __name__ == '__main__':\n",
        "  email = input(\"Enter an email: \")\n",
        "  res = is_valid_email(email)\n",
        "  print(res)"
      ],
      "metadata": {
        "colab": {
          "base_uri": "https://localhost:8080/"
        },
        "id": "LeGiiGCI9aBe",
        "outputId": "ad683921-f845-46df-9869-3452958fd131"
      },
      "execution_count": null,
      "outputs": [
        {
          "output_type": "stream",
          "name": "stdout",
          "text": [
            "Enter an email: ruru.32@yahoo.com\n",
            "True\n"
          ]
        }
      ]
    },
    {
      "cell_type": "code",
      "source": [
        "def string(s):\n",
        "  l=s.split()\n",
        "  return l\n",
        "def get_palindrome(lst):\n",
        "  for i in range(len(lst)):\n",
        "    txt = lst[i] [::-1]\n",
        "    if(txt==lst[i]):\n",
        "      print(lst[i])\n",
        "\n",
        "text = input(\"Enter a sentence to check palindrome: \")\n",
        "print(get_palindrome(string(text)))"
      ],
      "metadata": {
        "id": "r4pK9mr1Immw"
      },
      "execution_count": null,
      "outputs": []
    },
    {
      "cell_type": "code",
      "source": [
        "def encrypt(text,s):\n",
        "   result = \"\"\n",
        "   for i in range():\n",
        "      char = text[i]\n",
        "\n",
        "      if (char.isupper()):\n",
        "         result += chr((ord(char) + s-65) % 26 + 65)\n",
        "\n",
        "      else:\n",
        "         result += chr((ord(char) + s - 97) % 26 + 97)\n",
        "\n",
        "   return result\n",
        "def decrypt(text):\n",
        "   result = \"\"\n",
        "\n",
        "   for i in range(len(text)):\n",
        "      char = text[i]\n",
        "\n",
        "      if (char.isupper()):\n",
        "         result += chr((ord(char) - s-65) % 26 + 65)\n",
        "\n",
        "      else:\n",
        "         result += chr((ord(char) - s - 97) % 26 + 97)\n",
        "\n",
        "   return result\n",
        "text = \"ATTACKONTITAN\"\n",
        "s = 4\n",
        "print (\"Text : \" + text)\n",
        "print (\"Shift : \" + str(s))\n",
        "print (\"encrypted: \" + encrypt(text,s))\n",
        "print (\"decrypted: \" + decrypt(encrypt(text,s)))"
      ],
      "metadata": {
        "id": "Tod43P5wLhn5"
      },
      "execution_count": null,
      "outputs": []
    },
    {
      "cell_type": "code",
      "source": [
        "class Employee:\n",
        "  def __init__(self,name,age,salary):\n",
        "    self.name = name\n",
        "    self.age = age\n",
        "    self.salary = salary\n",
        "e = Employee(\"Priyanka R\",21,500000)\n",
        "print(\"Name: \",e.name)\n",
        "print(\"Age: \",e.age)\n",
        "print(\"Salary: \",e.salary)"
      ],
      "metadata": {
        "colab": {
          "base_uri": "https://localhost:8080/"
        },
        "id": "b_mQJY7i7oIE",
        "outputId": "2562266a-d73c-4118-a250-33fdad60d329"
      },
      "execution_count": null,
      "outputs": [
        {
          "output_type": "stream",
          "name": "stdout",
          "text": [
            "Name:  Priyanka R\n",
            "Age:  21\n",
            "Salary:  500000\n"
          ]
        }
      ]
    },
    {
      "cell_type": "code",
      "source": [
        "class Student:\n",
        "  def __init__(self):\n",
        "    self.name = \"Priya S\"\n",
        "    self.age = 20\n",
        "    self.grade = \"A\"\n",
        "s = Student()\n",
        "print(\"Name: \",s.name)\n",
        "print(\"Age: \",s.age)\n",
        "print(\"Grade: \",s.grade)"
      ],
      "metadata": {
        "colab": {
          "base_uri": "https://localhost:8080/"
        },
        "id": "9b6nDKZM9tnZ",
        "outputId": "8475141f-9f61-4703-c7c3-7fc3ddbbd11d"
      },
      "execution_count": null,
      "outputs": [
        {
          "output_type": "stream",
          "name": "stdout",
          "text": [
            "Name:  Priya S\n",
            "Age:  20\n",
            "Grade:  A\n"
          ]
        }
      ]
    },
    {
      "cell_type": "code",
      "source": [
        "class Rectangle:\n",
        "  def __init__(self,length,breadth):\n",
        "    self.length = length\n",
        "    self.breadth = breadth\n",
        "r = Rectangle(7,5)\n",
        "print(\"Length = \",r.length)\n",
        "print(\"Breadth = \",r.breadth)"
      ],
      "metadata": {
        "colab": {
          "base_uri": "https://localhost:8080/"
        },
        "id": "xSwkmQRJ_tgj",
        "outputId": "2e239c59-efed-4f1f-87f6-592f9c8fa8b0"
      },
      "execution_count": null,
      "outputs": [
        {
          "output_type": "stream",
          "name": "stdout",
          "text": [
            "Length =  7\n",
            "Breadth =  5\n"
          ]
        }
      ]
    },
    {
      "cell_type": "code",
      "source": [
        "class Birthdaytwins:\n",
        "  def __init__(self,name1,name2,age):\n",
        "    self.name1 = name1\n",
        "    self.name2 = name2\n",
        "    self.age = age\n",
        "  def Birthday(self):\n",
        "    print(\"Name of baby 1: \",self.name1)\n",
        "    print(\"Name of baby 2: \",self.name2)\n",
        "    print(\"Age of the babies: \",self.age)\n",
        "    self.age = self.age+1\n",
        "    print(f\"Happy Birthday {self.name1} & {self.name2}!! You are {self.age} years old now!\")\n",
        "    print(\"Age of the birthday babies : \",self.age)\n",
        "n = Birthdaytwins(\"Fred\",\"George\",1)\n",
        "n.Birthday()"
      ],
      "metadata": {
        "colab": {
          "base_uri": "https://localhost:8080/"
        },
        "id": "RnN9cbKOAqnB",
        "outputId": "5b499fd1-6e84-4483-c4d1-58d9ac241986"
      },
      "execution_count": null,
      "outputs": [
        {
          "output_type": "stream",
          "name": "stdout",
          "text": [
            "Name of baby 1:  Fred\n",
            "Name of baby 2:  George\n",
            "Age of the babies:  1\n",
            "Happy Birthday Fred & George!! You are 2 years old now!\n",
            "Age of the birthday babies :  2\n"
          ]
        }
      ]
    },
    {
      "cell_type": "code",
      "source": [
        "class song:\n",
        "  def __init__(self,lyrics):\n",
        "    self.lyrics=lyrics\n",
        "  def sing_me_a_song(self):\n",
        "    for i in self.lyrics:\n",
        "      print(i)\n",
        "joey_song = [\"Morning's hereee,\",\n",
        "                      \"The morning's here,\",\n",
        "                      \"Sunshine is here..,\",\n",
        "                      \"The sky is clear,\",\n",
        "                      \"The morning's hereee\",\n",
        "                      \"Get into gear, Breakfast is nearr\",\n",
        "                      \"The dark of night has disapeee-eeared\"]\n",
        "phoebe_song = [\"Parading goats are parading,\",\n",
        "               \"Parading down the streets,\",\n",
        "               \"Parading goats are parading,\",\n",
        "               \"Leaving little treats\"]\n",
        "s = song(joey_song)\n",
        "p = song(phoebe_song)\n",
        "s.sing_me_a_song()\n",
        "print(\"\\n\")\n",
        "p.sing_me_a_song()"
      ],
      "metadata": {
        "colab": {
          "base_uri": "https://localhost:8080/"
        },
        "id": "WbOPQ9F6GRkg",
        "outputId": "35716383-350e-4790-a570-a422c9d95721"
      },
      "execution_count": null,
      "outputs": [
        {
          "output_type": "stream",
          "name": "stdout",
          "text": [
            "Morning's hereee,\n",
            "The morning's here,\n",
            "Sunshine is here..,\n",
            "The sky is clear,\n",
            "The morning's hereee\n",
            "Get into gear, Breakfast is nearr\n",
            "The dark of night has disapeee-eeared\n",
            "\n",
            "\n",
            "Parading goats are parading,\n",
            "Parading down the streets,\n",
            "Parading goats are parading,\n",
            "Leaving little treats\n"
          ]
        }
      ]
    },
    {
      "cell_type": "code",
      "source": [
        "class Dog:\n",
        "  def __init__(self,name,size,breed,dob):\n",
        "    self.name=name\n",
        "    self.size=size\n",
        "    self.breed='unknown'\n",
        "    self.dob='unknown'\n",
        "  def bark(self):\n",
        "    print(\"WHO LET THE DOGS OUT, WOOF WOOF WOOF!\")\n",
        "  def get_name(self,name):\n",
        "    print(\"Name is: \",self.name)\n",
        "def set_name():\n",
        "    n=input(\"Enter name: \")\n",
        "    return n\n",
        "d = Dog(\"Salt\",20,\"Golden Retreiver\",'17/11/2015')\n",
        "print(d.bark())\n",
        "d.name=set_name()\n",
        "d.get_name(d.name)"
      ],
      "metadata": {
        "colab": {
          "base_uri": "https://localhost:8080/"
        },
        "id": "WA-NaaTnLEed",
        "outputId": "e0e94db0-071f-4abb-f204-685a98ab94c0"
      },
      "execution_count": null,
      "outputs": [
        {
          "output_type": "stream",
          "name": "stdout",
          "text": [
            "WHO LET THE DOGS OUT, WOOF WOOF WOOF!\n",
            "None\n",
            "Enter name: Salt\n",
            "Name is:  Salt\n"
          ]
        }
      ]
    },
    {
      "cell_type": "code",
      "source": [
        "class Book:\n",
        "  def __init__(self,title,author,genre,publication_year):\n",
        "    self.title = title\n",
        "    self.author = author\n",
        "    self.genre = genre\n",
        "    self.publication_year = publication_year\n",
        "  def display(self):\n",
        "    print(\"Book: \",self.title)\n",
        "    print(\"Author: \",self.author)\n",
        "    print(\"Genre: \",self.genre)\n",
        "    print(\"Publication Year: \",self.publication_year)\n",
        "b = Book(\"The Avalonia Chronicles\",\"Farah Oomerbhoy\",\"Fantasy Fiction\",2013)\n",
        "b.display()"
      ],
      "metadata": {
        "colab": {
          "base_uri": "https://localhost:8080/"
        },
        "id": "Z_mNn18RCWDa",
        "outputId": "8c2a7398-aa7f-4f1e-ffab-c8e0ee9c4860"
      },
      "execution_count": null,
      "outputs": [
        {
          "output_type": "stream",
          "name": "stdout",
          "text": [
            "Book:  The Avalonia Chronicles\n",
            "Author:  Farah Oomerbhoy\n",
            "Genre:  Fantasy Fiction\n",
            "Publication Year:  2013\n"
          ]
        }
      ]
    },
    {
      "cell_type": "code",
      "source": [
        "class MovieTicket:\n",
        "  def __init__(self,movie_name,show_time,ticket_price,no_of_tickets_avail):\n",
        "    self.movie_name = movie_name\n",
        "    self.show_time = show_time\n",
        "    self.ticket_price = ticket_price\n",
        "    self.no_of_tickets_avail = no_of_tickets_avail\n",
        "    self.num = no_of_tickets_avail\n",
        "  def BookTickets(self):\n",
        "    print(\"Number of tickets available: \",self.no_of_tickets_avail)\n",
        "    self.n = int(input(\"Enter number of tickets you want to book: \"))\n",
        "    if (self.n > self.no_of_tickets_avail):\n",
        "      print(\"Only \",self.no_of_tickets_avail,\" tickets are available\")\n",
        "    else:\n",
        "      self.no_of_tickets_avail = self.no_of_tickets_avail - self.n\n",
        "      print(self.n,\"Tickets for \",self.movie_name,\" are Booked :)\")\n",
        "  def calculate_total_cost(self):\n",
        "    total_cost = self.n * self.ticket_price\n",
        "    if self.n <= self.num:\n",
        "      print(\"Total Cost:\",total_cost)\n",
        "      print(\"\\n\")\n",
        "  def Display_movie_info(self):\n",
        "    print(\"Movie Name: \",self.movie_name)\n",
        "    print(\"Show time: \",self.show_time)\n",
        "    print(\"Ticket Price: \",self.ticket_price)\n",
        "    print(\"Number of available tickets: \",self.no_of_tickets_avail)\n",
        "    print(\"\\n\")\n",
        "m = MovieTicket(\"Googly\",\"9:00 pm\",210,114)\n",
        "m.Display_movie_info()\n",
        "m.BookTickets()\n",
        "m.calculate_total_cost()\n",
        "\n",
        "n = MovieTicket(\"Paramathma\",\"6:00 pm\",200,7)\n",
        "n.Display_movie_info()\n",
        "n.BookTickets()\n",
        "n.calculate_total_cost()\n"
      ],
      "metadata": {
        "colab": {
          "base_uri": "https://localhost:8080/"
        },
        "id": "JVuiRj3tERcy",
        "outputId": "2fcd02be-1bef-478d-fe57-a4fb8590fac2"
      },
      "execution_count": null,
      "outputs": [
        {
          "output_type": "stream",
          "name": "stdout",
          "text": [
            "Movie Name:  Googly\n",
            "Show time:  9:00 pm\n",
            "Ticket Price:  210\n",
            "Number of available tickets:  114\n",
            "\n",
            "\n",
            "Number of tickets available:  114\n",
            "Enter number of tickets you want to book: 4\n",
            "4 Tickets for  Googly  are Booked :)\n",
            "Total Cost: 840\n",
            "\n",
            "\n",
            "Movie Name:  Paramathma\n",
            "Show time:  6:00 pm\n",
            "Ticket Price:  200\n",
            "Number of available tickets:  7\n",
            "\n",
            "\n",
            "Number of tickets available:  7\n",
            "Enter number of tickets you want to book: 7\n",
            "7 Tickets for  Paramathma  are Booked :)\n",
            "Total Cost: 1400\n",
            "\n",
            "\n"
          ]
        }
      ]
    },
    {
      "cell_type": "code",
      "source": [
        "class Employee:\n",
        "  def __init__(self,name,salary):\n",
        "    self.name = name\n",
        "    self.__salary = salary\n",
        "  def work(self):\n",
        "    print(self.name,\"is working\")\n",
        "  def show(self):\n",
        "    print(\"Name of the Employee : \",self.name)\n",
        "    print(\"Salary: \",self.__salary)\n",
        "e = Employee(\"Anu\",60000)\n",
        "e.work()\n",
        "e.show()"
      ],
      "metadata": {
        "colab": {
          "base_uri": "https://localhost:8080/"
        },
        "id": "c6oR87nLQikG",
        "outputId": "2605599e-f1e8-42cf-fd30-dbc7fe74d465"
      },
      "execution_count": null,
      "outputs": [
        {
          "output_type": "stream",
          "name": "stdout",
          "text": [
            "Anu is working\n",
            "Name of the Employee :  Anu\n",
            "Salary:  60000\n"
          ]
        }
      ]
    },
    {
      "cell_type": "code",
      "source": [
        "class CreditCard:\n",
        "  def __init__(self,limit,balance):\n",
        "    self.__limit = limit\n",
        "    self._balance = balance\n",
        "  def withdraw(self,amt):\n",
        "    if self._balance>amt:\n",
        "      self._balance = self._balance - amt\n",
        "    else:\n",
        "      print(\"insufficient balance\")\n",
        "  def deposit(self,amt):\n",
        "    self._balance = self._balance + amt\n",
        "  def get_balance(self):\n",
        "    print(\"Balance : \",self._balance)\n",
        "c = CreditCard(10000,10600)\n",
        "c.withdraw(70)\n",
        "c.get_balance()\n",
        "c.deposit(40)\n",
        "c.get_balance()"
      ],
      "metadata": {
        "colab": {
          "base_uri": "https://localhost:8080/"
        },
        "id": "CRQJwfgvRl0u",
        "outputId": "f5e4daa8-3965-47a0-9879-9f5941fe946c"
      },
      "execution_count": null,
      "outputs": [
        {
          "output_type": "stream",
          "name": "stdout",
          "text": [
            "Balance :  10530\n",
            "Balance :  10570\n"
          ]
        }
      ]
    },
    {
      "cell_type": "code",
      "source": [
        "class Product:\n",
        "  def __init__(self,prod_id,prod_name,prod_price):\n",
        "    self.prod_id = prod_id\n",
        "    self.prod_name = prod_name\n",
        "    self.prod_price = prod_price\n",
        "  def apply_discount(self,p):\n",
        "    self.prod_price = self.prod_price - ((p/100)*self.prod_price)\n",
        "    print(\"Price after discount is \",self.prod_price)\n",
        "  def is_expensive(self):\n",
        "    if(self.prod_price>10000):\n",
        "      print(\"Expensive\")\n",
        "    else:\n",
        "      print(\"Not expensive\")\n",
        "  def disp_prod_info(self):\n",
        "    print(\"Product ID: \",self.prod_id)\n",
        "    print(\"Product name: \",self.prod_name)\n",
        "    print(\"Product price: \",self.prod_price)\n",
        "    print(\"\\n\")\n",
        "p = Product(\"1P303\",\"Watch\",14500)\n",
        "p.disp_prod_info()\n",
        "p.apply_discount(10)\n",
        "p.is_expensive()"
      ],
      "metadata": {
        "colab": {
          "base_uri": "https://localhost:8080/"
        },
        "id": "RfxksAoPVqtU",
        "outputId": "730ac31a-978c-415d-e2f4-e8d163366533"
      },
      "execution_count": null,
      "outputs": [
        {
          "output_type": "stream",
          "name": "stdout",
          "text": [
            "Product ID:  1P303\n",
            "Product name:  Watch\n",
            "Product price:  14500\n",
            "Price after discount is  13050.0\n",
            "Expensive\n"
          ]
        }
      ]
    },
    {
      "cell_type": "code",
      "source": [
        "from abc import ABC, abstractmethod\n",
        "import math\n",
        "class Shape(ABC):\n",
        "  def area(self):\n",
        "    pass\n",
        "  def perimeter(self):\n",
        "    pass\n",
        "class Circle(Shape):\n",
        "  def __init__(self,r):\n",
        "    self.r = r\n",
        "  def area(self):\n",
        "    return math.pi * self.r**2\n",
        "  def perimeter(self):\n",
        "    return 2*math.pi*self.r\n",
        "class Rectangle(Shape):\n",
        "  def __init__(self,length,breadth):\n",
        "    self.length = length\n",
        "    self.breadth = breadth\n",
        "  def area(self):\n",
        "    return self.length*self.breadth\n",
        "  def perimeter(self):\n",
        "    return 2*(self.length+self.breadth)\n",
        "class Triangle(Shape):\n",
        "  def __init__(self,s1,s2,s3):\n",
        "    self.s1=s1\n",
        "    self.s2=s2\n",
        "    self.s3=s3\n",
        "  def area(self):\n",
        "    s = (self.s1+self.s2+self.s3)/2\n",
        "    return math.sqrt(s * (s-self.s1) * (s-self.s2) * (s-self.s3))\n",
        "  def perimeter(self):\n",
        "    return self.s1+self.s2+self.s3\n",
        "def display(Shape):\n",
        "  print(f\"Area: {Shape.area()}\")\n",
        "  print(f\"Perimeter: {Shape.perimeter()}\")\n",
        "  print()\n",
        "c = Circle(5)\n",
        "r = Rectangle(2,3)\n",
        "t = Triangle(8,3,9)\n",
        "print(\"Circle: \")\n",
        "display(c)\n",
        "print(\"Rectangle: \")\n",
        "display(r)\n",
        "print(\"Triangle: \")\n",
        "display(t)"
      ],
      "metadata": {
        "colab": {
          "base_uri": "https://localhost:8080/"
        },
        "id": "6rpKP06wHQIS",
        "outputId": "2596aed9-80fe-4d3c-9d5a-8d72ca646308"
      },
      "execution_count": null,
      "outputs": [
        {
          "output_type": "stream",
          "name": "stdout",
          "text": [
            "Circle: \n",
            "Area: 78.53981633974483\n",
            "Perimeter: 31.41592653589793\n",
            "\n",
            "Rectangle: \n",
            "Area: 6\n",
            "Perimeter: 10\n",
            "\n",
            "Triangle: \n",
            "Area: 11.832159566199232\n",
            "Perimeter: 20\n",
            "\n"
          ]
        }
      ]
    },
    {
      "cell_type": "code",
      "source": [
        "from abc import ABC, abstractmethod\n",
        "\n",
        "class LibraryItem(ABC):\n",
        "  def __init__(self, title, item_id, duration):\n",
        "    self.title = title\n",
        "    self.item_id = item_id\n",
        "    self.duration = duration\n",
        "    self.checked_out = False\n",
        "  @abstractmethod\n",
        "  def display(self):\n",
        "        pass\n",
        "class Book(LibraryItem):\n",
        "  def __init__(self, title, item_id, author):\n",
        "    super().__init__(title, item_id, None)\n",
        "    self.author = author\n",
        "  def display(self):\n",
        "    print(f\"Book: {self.title}\\nID: {self.item_id}\\nAuthor: {self.author}\\n\")\n",
        "class DVD(LibraryItem):\n",
        "  def __init__(self, title, duration):\n",
        "    super().__init__(title, None, duration)\n",
        "  def display(self):\n",
        "    print(f\"DVD: {self.title}\\nDuration: {self.duration}\\n\")\n",
        "class LibraryMember(ABC):\n",
        "  def __init__(self, member_id, name):\n",
        "    self.member_id = member_id\n",
        "    self.name = name\n",
        "    self.checked_out_items = []\n",
        "  @abstractmethod\n",
        "  def display(self):\n",
        "    pass\n",
        "  def check_out_item(self, item):\n",
        "    if not item.checked_out:\n",
        "      item.checked_out = True\n",
        "      self.checked_out_items.append(item)\n",
        "      print(f\"{self.name} checked out {item.title}\")\n",
        "    else:\n",
        "      print(f\"{item.title} is already checked out\")\n",
        "  def return_item(self, item):\n",
        "    if item in self.checked_out_items:\n",
        "      item.checked_out = False\n",
        "      self.checked_out_items.remove(item)\n",
        "      print(f\"{self.name} returned {item.title}\")\n",
        "    else:\n",
        "      print(f\"{self.name} does not have {item.title}\")\n",
        "class Student(LibraryMember):\n",
        "  def __init__(self, member_id, name, student_id):\n",
        "    super().__init__(member_id, name)\n",
        "    self.student_id = student_id\n",
        "  def display(self):\n",
        "    print(f\"Student: {self.name}\\nMembership ID: {self.member_id}\\nStudent ID: {self.student_id}\\n\")\n",
        "class Librarian(LibraryMember):\n",
        "  def __init__(self, member_id, name, lib_id):\n",
        "    super().__init__(member_id, name)\n",
        "    self.lib_id = lib_id\n",
        "  def display(self):\n",
        "    print(f\"Librarian: {self.name} ID: {self.member_id}, Librarian ID: {self.lib_id}\")\n",
        "\n",
        "# Example usage:\n",
        "b = Book(\"Introduction to Python\", 101, \"John Smith\")\n",
        "d = DVD(\"The Matrix\", \"1hr 45mins\")\n",
        "s = Student(301, \"Mary Ellen\", \"M7546\")\n",
        "\n",
        "b.display()\n",
        "d.display()\n",
        "s.display()\n",
        "\n",
        "s.check_out_item(b)\n",
        "s.check_out_item(d)\n",
        "\n",
        "s.return_item(b)\n",
        "s.return_item(d)\n"
      ],
      "metadata": {
        "colab": {
          "base_uri": "https://localhost:8080/"
        },
        "id": "-pDzsMu4MGq9",
        "outputId": "3616f2b5-bd4c-46ac-ab1e-200b0f07c68f"
      },
      "execution_count": null,
      "outputs": [
        {
          "output_type": "stream",
          "name": "stdout",
          "text": [
            "Book: Introduction to Python\n",
            "ID: 101\n",
            "Author: John Smith\n",
            "\n",
            "DVD: The Matrix\n",
            "Duration: 1hr 45mins\n",
            "\n",
            "Student: Mary Ellen\n",
            "Membership ID: 301\n",
            "Student ID: M7546\n",
            "\n",
            "Mary Ellen checked out Introduction to Python\n",
            "Mary Ellen checked out The Matrix\n",
            "Mary Ellen returned Introduction to Python\n",
            "Mary Ellen returned The Matrix\n"
          ]
        }
      ]
    },
    {
      "cell_type": "code",
      "source": [
        "#Game Development"
      ],
      "metadata": {
        "id": "Zr1Ns2F4a3tA"
      },
      "execution_count": null,
      "outputs": []
    },
    {
      "cell_type": "code",
      "source": [
        "from abc import ABC, abstractmethod\n",
        "\n",
        "class Product(ABC):\n",
        "    def __init__(self, name, price):\n",
        "        self.name = name\n",
        "        self.price = price\n",
        "    @abstractmethod\n",
        "    def display_info(self):\n",
        "        pass\n",
        "class Book(Product):\n",
        "    def __init__(self, name, price, author, ISBN):\n",
        "        super().__init__(name, price)\n",
        "        self.author = author\n",
        "        self.ISBN = ISBN\n",
        "    def display_info(self):\n",
        "        print(f\"Book: {self.name} by {self.author}\")\n",
        "        print(f\"ISBN: {self.ISBN}\")\n",
        "        print(f\"Price: Rs.{self.price:.2f}\")\n",
        "        print()\n",
        "class Electronic(Product):\n",
        "    def __init__(self, name, price, brand, model):\n",
        "        super().__init__(name, price)\n",
        "        self.brand = brand\n",
        "        self.model = model\n",
        "    def display_info(self):\n",
        "        print(f\"Electronic: {self.name} ({self.brand} {self.model})\")\n",
        "        print(f\"Price: Rs{self.price:.2f}\")\n",
        "        print()\n",
        "class Cart(ABC):\n",
        "    def __init__(self):\n",
        "        self.items = []\n",
        "    def add_item(self, product, quantity=1):\n",
        "        self.items.append({\"product\": product, \"quantity\": quantity})\n",
        "        print(f\"{quantity} {product.name}(s) added to the cart.\")\n",
        "    def remove_item(self, product, quantity=1):\n",
        "        for item in self.items:\n",
        "            if item[\"product\"] == product:\n",
        "                if item[\"quantity\"] >= quantity:\n",
        "                    item[\"quantity\"] -= quantity\n",
        "                    print(f\"{quantity} {product.name}(s) removed from the cart.\")\n",
        "                    if item[\"quantity\"] == 0:\n",
        "                        self.items.remove(item)\n",
        "                else:\n",
        "                    print(f\"Insufficient quantity of {product.name} in the cart.\")\n",
        "                return\n",
        "        print(f\"{product.name} not found in the cart.\")\n",
        "    def view_cart(self):\n",
        "        total_price = 0\n",
        "        print(\"Cart Contents:\")\n",
        "        for item in self.items:\n",
        "            product = item[\"product\"]\n",
        "            quantity = item[\"quantity\"]\n",
        "            subtotal = product.price * quantity\n",
        "            total_price += subtotal\n",
        "            print(f\"- {product.name} ({quantity} x Rs{product.price:.2f}): Rs{subtotal:.2f}\")\n",
        "        print(f\"Total Price: Rs{total_price:.2f}\")\n",
        "        print()\n",
        "\n",
        "# Example usage\n",
        "book1 = Book(\"The Catcher in the Rye\", 15.99, \"J.D. Salinger\", \"978-0-316-76948-0\")\n",
        "electronic1 = Electronic(\"Laptop\", 899.99, \"Dell\", \"XPS 13\")\n",
        "\n",
        "cart = Cart()\n",
        "\n",
        "cart.add_item(book1, 2)\n",
        "cart.add_item(electronic1, 1)\n",
        "cart.view_cart()\n",
        "\n",
        "cart.remove_item(book1, 1)\n",
        "cart.view_cart()\n"
      ],
      "metadata": {
        "colab": {
          "base_uri": "https://localhost:8080/"
        },
        "id": "ZHnVUqgVYtzp",
        "outputId": "f10e329a-1362-4375-d47d-d2a239b33adb"
      },
      "execution_count": null,
      "outputs": [
        {
          "output_type": "stream",
          "name": "stdout",
          "text": [
            "2 The Catcher in the Rye(s) added to the cart.\n",
            "1 Laptop(s) added to the cart.\n",
            "Cart Contents:\n",
            "- The Catcher in the Rye (2 x Rs15.99): Rs31.98\n",
            "- Laptop (1 x Rs899.99): Rs899.99\n",
            "Total Price: Rs931.97\n",
            "\n",
            "1 The Catcher in the Rye(s) removed from the cart.\n",
            "Cart Contents:\n",
            "- The Catcher in the Rye (1 x Rs15.99): Rs15.99\n",
            "- Laptop (1 x Rs899.99): Rs899.99\n",
            "Total Price: Rs915.98\n",
            "\n"
          ]
        }
      ]
    },
    {
      "cell_type": "code",
      "source": [
        "class Person:\n",
        "    def __init__(self, name, age):\n",
        "        self.name = name\n",
        "        self.age = age\n",
        "\n",
        "    def display_person(self):\n",
        "        print(f\"Name: {self.name}, Age: {self.age}\")\n",
        "\n",
        "class Company:\n",
        "    def __init__(self, company_name):\n",
        "        self.company_name = company_name\n",
        "\n",
        "    def display_company(self):\n",
        "        print(f\"Company: {self.company_name}\")\n",
        "\n",
        "class Employee(Person, Company):\n",
        "    def __init__(self, name, age, company_name, employee_id):\n",
        "        Person.__init__(self, name, age)\n",
        "        Company.__init__(self, company_name)\n",
        "        self.employee_id = employee_id\n",
        "\n",
        "    def display_employee(self):\n",
        "        self.display_person()\n",
        "        self.display_company()\n",
        "        print(f\"Employee ID: {self.employee_id}\")\n",
        "\n",
        "# Example Usage\n",
        "employee = Employee(\"John Doe\", 30, \"Acme Corp\", \"E1234\")\n",
        "employee.display_employee()\n"
      ],
      "metadata": {
        "colab": {
          "base_uri": "https://localhost:8080/"
        },
        "id": "su1697eyFaxw",
        "outputId": "513c03b9-cd7a-46ef-f76e-c9c489dd0159"
      },
      "execution_count": null,
      "outputs": [
        {
          "output_type": "stream",
          "name": "stdout",
          "text": [
            "Name: John Doe, Age: 30\n",
            "Company: Acme Corp\n",
            "Employee ID: E1234\n"
          ]
        }
      ]
    },
    {
      "cell_type": "code",
      "source": [
        "class Vehicle:\n",
        "    def __init__(self, make, model):\n",
        "        self.make = make\n",
        "        self.model = model\n",
        "\n",
        "    def display_vehicle(self):\n",
        "        print(f\"Vehicle: {self.make} {self.model}\")\n",
        "\n",
        "class Car(Vehicle):\n",
        "    def __init__(self, make, model, doors):\n",
        "        super().__init__(make, model)\n",
        "        self.doors = doors\n",
        "\n",
        "    def display_car(self):\n",
        "        self.display_vehicle()\n",
        "        print(f\"Doors: {self.doors}\")\n",
        "\n",
        "class SportsCar(Car):\n",
        "    def __init__(self, make, model, doors, horsepower):\n",
        "        super().__init__(make, model, doors)\n",
        "        self.horsepower = horsepower\n",
        "\n",
        "    def display_sportscar(self):\n",
        "        self.display_car()\n",
        "        print(f\"Horsepower: {self.horsepower}\")\n",
        "\n",
        "# Example Usage\n",
        "sports_car = SportsCar(\"Ferrari\", \"F8\", 2, 710)\n",
        "sports_car.display_sportscar()\n"
      ],
      "metadata": {
        "colab": {
          "base_uri": "https://localhost:8080/"
        },
        "id": "agzclgybFi6I",
        "outputId": "3d176d03-0588-48d8-c91d-242a376de207"
      },
      "execution_count": null,
      "outputs": [
        {
          "output_type": "stream",
          "name": "stdout",
          "text": [
            "Vehicle: Ferrari F8\n",
            "Doors: 2\n",
            "Horsepower: 710\n"
          ]
        }
      ]
    },
    {
      "cell_type": "code",
      "source": [
        "class WrongAge(Exception):\n",
        "    def __init__(self, message=\"Age cannot be less than 0\"):\n",
        "        self.message = message\n",
        "        super().__init__(self.message)\n",
        "\n",
        "class AgeInvalid(Exception):\n",
        "    def __init__(self, message=\"Son's age cannot be >= Father's age\"):\n",
        "        self.message = message\n",
        "        super().__init__(self.message)\n",
        "\n",
        "class Father:\n",
        "    def __init__(self, age):\n",
        "        if age < 0:\n",
        "            raise WrongAge(\"Father's age is invalid. Age cannot be less than 0.\")\n",
        "        self.age = age\n",
        "\n",
        "class Son(Father):\n",
        "    def __init__(self, father_age, son_age):\n",
        "        super().__init__(father_age)\n",
        "        if son_age >= father_age:\n",
        "            raise AgeInvalid(\"Invalid ages. Son's age cannot be >= Father's age.\")\n",
        "        self.son_age = son_age\n",
        "\n",
        "try:\n",
        "    father_age = 50\n",
        "    son_age = 20\n",
        "    family = Son(father_age, son_age)\n",
        "    print(f\"Father's Age: {family.age}, Son's Age: {family.son_age}\")\n",
        "except (WrongAge, AgeInvalid) as e:\n",
        "    print(e)"
      ],
      "metadata": {
        "colab": {
          "base_uri": "https://localhost:8080/"
        },
        "id": "RMcseIkhF8cJ",
        "outputId": "dee8157f-aa68-4238-9c3a-bbb8be89d191"
      },
      "execution_count": null,
      "outputs": [
        {
          "output_type": "stream",
          "name": "stdout",
          "text": [
            "Father's Age: 50, Son's Age: 20\n"
          ]
        }
      ]
    },
    {
      "cell_type": "code",
      "source": [
        "class FormulaError(Exception):\n",
        "    pass\n",
        "\n",
        "def calculate(formula):\n",
        "    try:\n",
        "        num1, operator, num2 = formula.split()\n",
        "        num1 = float(num1)\n",
        "        num2 = float(num2)\n",
        "\n",
        "        if operator not in ('+', '-'):\n",
        "            raise FormulaError(\"Invalid operator. Please use '+' or '-'.\")\n",
        "\n",
        "        if operator == '+':\n",
        "            result = num1 + num2\n",
        "        else:\n",
        "            result = num1 - num2\n",
        "\n",
        "        print(f\"Result: {result}\")\n",
        "\n",
        "    except ValueError:\n",
        "        raise FormulaError(\"Invalid number format. Please enter valid numbers.\")\n",
        "    except FormulaError as fe:\n",
        "        raise fe\n",
        "\n",
        "while True:\n",
        "    user_input = input(\"Enter a formula (e.g., 1 + 1) or type 'quit' to exit: \")\n",
        "\n",
        "    if user_input.lower() == 'quit':\n",
        "        break\n",
        "\n",
        "    try:\n",
        "        calculate(user_input)\n",
        "    except FormulaError as fe:\n",
        "        print(f\"Error: {fe}\")\n"
      ],
      "metadata": {
        "colab": {
          "base_uri": "https://localhost:8080/"
        },
        "id": "iPPOx9h0GGqA",
        "outputId": "5448142f-dd83-4e60-dd76-a6c82aa30dad"
      },
      "execution_count": null,
      "outputs": [
        {
          "name": "stdout",
          "output_type": "stream",
          "text": [
            "Enter a formula (e.g., 1 + 1) or type 'quit' to exit: 2*4\n",
            "Error: Invalid number format. Please enter valid numbers.\n",
            "Enter a formula (e.g., 1 + 1) or type 'quit' to exit: 2+8\n",
            "Error: Invalid number format. Please enter valid numbers.\n",
            "Enter a formula (e.g., 1 + 1) or type 'quit' to exit: 1+1\n",
            "Error: Invalid number format. Please enter valid numbers.\n",
            "Enter a formula (e.g., 1 + 1) or type 'quit' to exit: 1 + 5\n",
            "Result: 6.0\n",
            "Enter a formula (e.g., 1 + 1) or type 'quit' to exit: 3 - 4\n",
            "Result: -1.0\n",
            "Enter a formula (e.g., 1 + 1) or type 'quit' to exit: 9 * 4\n",
            "Error: Invalid operator. Please use '+' or '-'.\n",
            "Enter a formula (e.g., 1 + 1) or type 'quit' to exit: quit\n"
          ]
        }
      ]
    },
    {
      "cell_type": "code",
      "source": [
        "import threading\n",
        "import random\n",
        "import time\n",
        "from queue import Queue\n",
        "\n",
        "data_queue = Queue()\n",
        "\n",
        "stop_flag = False\n",
        "\n",
        "def generate_random_numbers():\n",
        "    while not stop_flag:\n",
        "        random_number = random.randint(1, 100)\n",
        "        print(f\"Generated random number: {random_number}\")\n",
        "        data_queue.put(random_number)\n",
        "        time.sleep(1)\n",
        "\n",
        "def compute_square():\n",
        "    while not stop_flag:\n",
        "        number = data_queue.get()\n",
        "        if number % 2 == 0:\n",
        "            square = number ** 2\n",
        "            print(f\"Square of {number}: {square}\")\n",
        "        data_queue.task_done()\n",
        "\n",
        "def print_cube():\n",
        "    while not stop_flag:\n",
        "        number = data_queue.get()\n",
        "        if number % 2 != 0:\n",
        "            cube = number ** 3\n",
        "            print(f\"Cube of {number}: {cube}\")\n",
        "        data_queue.task_done()\n",
        "\n",
        "thread1 = threading.Thread(target=generate_random_numbers)\n",
        "thread2 = threading.Thread(target=compute_square)\n",
        "thread3 = threading.Thread(target=print_cube)\n",
        "\n",
        "thread1.start()\n",
        "thread2.start()\n",
        "thread3.start()\n",
        "\n",
        "try:\n",
        "    while True:\n",
        "        time.sleep(1)\n",
        "except KeyboardInterrupt:\n",
        "    stop_flag = True\n",
        "    print(\"Program terminated by user.\")\n",
        "\n",
        "thread1.join()\n",
        "thread2.join()\n",
        "thread3.join()"
      ],
      "metadata": {
        "colab": {
          "base_uri": "https://localhost:8080/"
        },
        "id": "8VaDYBPUcEFf",
        "outputId": "a0197064-8c88-4ea0-fd18-8541c60eb0e1"
      },
      "execution_count": null,
      "outputs": [
        {
          "output_type": "stream",
          "name": "stdout",
          "text": [
            "Generated random number: 10\n",
            "Square of 10: 100\n",
            "Generated random number: 94\n",
            "Square of 94: 8836\n",
            "Generated random number: 19\n",
            "Cube of 19: 6859\n",
            "Generated random number: 47\n",
            "Generated random number: 55\n",
            "Cube of 55: 166375\n",
            "Generated random number: 24\n",
            "Square of 24: 576\n",
            "Generated random number: 91\n",
            "Cube of 91: 753571\n",
            "Program terminated by user.\n",
            "Generated random number: 10\n",
            "Square of 10: 100\n",
            "Generated random number: 11\n",
            "Cube of 11: 1331\n"
          ]
        }
      ]
    },
    {
      "cell_type": "code",
      "source": [
        "import threading\n",
        "import time\n",
        "import queue\n",
        "import random\n",
        "\n",
        "# Vegetable market parameters\n",
        "MARKET_CAPACITY = 5\n",
        "NUM_VEGETABLE_TYPES = 3\n",
        "NUM_CONSUMERS = 10\n",
        "\n",
        "# Shared data between farmer and consumers\n",
        "market_queue = queue.Queue(maxsize=MARKET_CAPACITY)\n",
        "vegetable_types = [f\"Vegetable-{i+1}\" for i in range(NUM_VEGETABLE_TYPES)]\n",
        "exit_signal = threading.Event()\n",
        "\n",
        "# Lock for synchronization\n",
        "lock = threading.Lock()\n",
        "\n",
        "# Function for the farmer to produce vegetables\n",
        "def produce_vegetables():\n",
        "    global market_queue\n",
        "    while not exit_signal.is_set():\n",
        "        vegetable_type = random.choice(vegetable_types)\n",
        "        with lock:\n",
        "            market_queue.put(vegetable_type)\n",
        "            print(f\"Farmer produced {vegetable_type}\")\n",
        "        time.sleep(random.uniform(0.5, 1.5))\n",
        "\n",
        "# Function for consumers to buy vegetables\n",
        "def buy_vegetables(consumer_id):\n",
        "    global market_queue\n",
        "    while not exit_signal.is_set():\n",
        "        with lock:\n",
        "            if not market_queue.empty():\n",
        "                vegetable_type = market_queue.get()\n",
        "                print(f\"Consumer-{consumer_id} bought {vegetable_type}\")\n",
        "            else:\n",
        "                print(f\"Consumer-{consumer_id} is waiting for vegetables\")\n",
        "        time.sleep(random.uniform(1, 2))\n",
        "\n",
        "# Create and start the farmer thread\n",
        "farmer_thread = threading.Thread(target=produce_vegetables)\n",
        "farmer_thread.start()\n",
        "\n",
        "# Create and start the consumer threads\n",
        "consumer_threads = [threading.Thread(target=buy_vegetables, args=(i+1,)) for i in range(NUM_CONSUMERS)]\n",
        "for thread in consumer_threads:\n",
        "    thread.start()\n",
        "\n",
        "# Run the simulation for a specific duration (e.g., 10 seconds)\n",
        "time.sleep(10)\n",
        "\n",
        "# Set exit signal to stop the threads\n",
        "exit_signal.set()\n",
        "\n",
        "# Join the threads to wait for them to finish\n",
        "farmer_thread.join()\n",
        "for thread in consumer_threads:\n",
        "    thread.join()"
      ],
      "metadata": {
        "colab": {
          "base_uri": "https://localhost:8080/"
        },
        "id": "3Vqb3Xotdl5g",
        "outputId": "ddaf2398-55d8-41fe-edac-4dfea0fd1337"
      },
      "execution_count": null,
      "outputs": [
        {
          "output_type": "stream",
          "name": "stdout",
          "text": [
            "Farmer produced Vegetable-1\n",
            "Consumer-1 bought Vegetable-1\n",
            "Consumer-2 is waiting for vegetables\n",
            "Consumer-3 is waiting for vegetables\n",
            "Consumer-4 is waiting for vegetables\n",
            "Consumer-5 is waiting for vegetables\n",
            "Consumer-6 is waiting for vegetables\n",
            "Consumer-7 is waiting for vegetables\n",
            "Consumer-8 is waiting for vegetables\n",
            "Consumer-9 is waiting for vegetables\n",
            "Consumer-10 is waiting for vegetables\n",
            "Generated random number: 91\n",
            "Farmer produced Vegetable-3\n",
            "Consumer-1 bought Vegetable-3\n",
            "Consumer-5 is waiting for vegetables\n",
            "Generated random number: 36\n",
            "Consumer-10 is waiting for vegetables\n",
            "Consumer-7 is waiting for vegetables\n",
            "Consumer-3 is waiting for vegetables\n",
            "Consumer-9 is waiting for vegetables\n",
            "Consumer-6 is waiting for vegetables\n",
            "Consumer-8 is waiting for vegetables\n",
            "Consumer-2 is waiting for vegetables\n",
            "Consumer-4 is waiting for vegetables\n",
            "Generated random number: 60\n",
            "Consumer-1 is waiting for vegetables\n",
            "Farmer produced Vegetable-3\n",
            "Consumer-10 bought Vegetable-3\n",
            "Consumer-7 is waiting for vegetables\n",
            "Consumer-3 is waiting for vegetables\n",
            "Consumer-5 is waiting for vegetables\n",
            "Consumer-4 is waiting for vegetables\n",
            "Consumer-6 is waiting for vegetables\n",
            "Consumer-9 is waiting for vegetables\n",
            "Generated random number: 92\n",
            "Consumer-8 is waiting for vegetables\n",
            "Farmer produced Vegetable-1\n",
            "Consumer-2 bought Vegetable-1\n",
            "Consumer-7 is waiting for vegetables\n",
            "Consumer-10 is waiting for vegetables\n",
            "Generated random number: 83\n",
            "Consumer-1 is waiting for vegetables\n",
            "Consumer-8 is waiting for vegetables\n",
            "Consumer-9 is waiting for vegetables\n",
            "Consumer-5 is waiting for vegetables\n",
            "Farmer produced Vegetable-2\n",
            "Consumer-4 bought Vegetable-2\n",
            "Consumer-6 is waiting for vegetables\n",
            "Consumer-3 is waiting for vegetables\n",
            "Consumer-2 is waiting for vegetables\n",
            "Generated random number: 57\n",
            "Farmer produced Vegetable-3\n",
            "Consumer-7 bought Vegetable-3\n",
            "Consumer-5 is waiting for vegetables\n",
            "Consumer-4 is waiting for vegetables\n",
            "Consumer-10 is waiting for vegetables\n",
            "Consumer-3 is waiting for vegetables\n",
            "Consumer-9 is waiting for vegetables\n",
            "Consumer-8 is waiting for vegetables\n",
            "Generated random number: 87\n",
            "Consumer-1 is waiting for vegetables\n",
            "Farmer produced Vegetable-2\n",
            "Consumer-2 bought Vegetable-2\n",
            "Consumer-6 is waiting for vegetables\n",
            "Consumer-5 is waiting for vegetables\n",
            "Consumer-7 is waiting for vegetables\n",
            "Farmer produced Vegetable-2\n",
            "Consumer-4 bought Vegetable-2\n",
            "Generated random number: 52\n",
            "Consumer-10 is waiting for vegetables\n",
            "Consumer-3 is waiting for vegetables\n",
            "Consumer-8 is waiting for vegetables\n",
            "Consumer-2 is waiting for vegetables\n",
            "Consumer-6 is waiting for vegetables\n",
            "Farmer produced Vegetable-2\n",
            "Consumer-9 bought Vegetable-2\n",
            "Consumer-1 is waiting for vegetables\n",
            "Generated random number: 78\n",
            "Consumer-5 is waiting for vegetables\n",
            "Consumer-3 is waiting for vegetables\n",
            "Consumer-2 is waiting for vegetables\n",
            "Consumer-10 is waiting for vegetables\n",
            "Farmer produced Vegetable-3\n",
            "Consumer-4 bought Vegetable-3\n",
            "Consumer-6 is waiting for vegetables\n",
            "Consumer-7 is waiting for vegetables\n",
            "Consumer-8 is waiting for vegetables\n",
            "Consumer-1 is waiting for vegetables\n",
            "Generated random number: 60\n",
            "Consumer-9 is waiting for vegetables\n",
            "Consumer-2 is waiting for vegetables\n",
            "Farmer produced Vegetable-3\n",
            "Consumer-5 bought Vegetable-3\n",
            "Consumer-8 is waiting for vegetables\n",
            "Consumer-6 is waiting for vegetables\n",
            "Consumer-10 is waiting for vegetables\n",
            "Generated random number: 48\n",
            "Generated random number: 98\n"
          ]
        }
      ]
    },
    {
      "cell_type": "code",
      "source": [
        "import threading\n",
        "import time\n",
        "\n",
        "# Synchronization using a semaphore\n",
        "semaphore = threading.Semaphore(1)\n",
        "\n",
        "# Function to print numbers from 1 to 5\n",
        "def function_A():\n",
        "    for i in range(1, 6):\n",
        "        with semaphore:\n",
        "            print(i, end=' ')\n",
        "            time.sleep(0.5)  # Simulate time-consuming task\n",
        "        time.sleep(0.1)  # Sleep to allow other thread to execute\n",
        "\n",
        "# Function to print letters 'A' to 'E'\n",
        "def function_B():\n",
        "    for char in 'ABCDE':\n",
        "        with semaphore:\n",
        "            print(char, end=' ')\n",
        "            time.sleep(0.5)  # Simulate time-consuming task\n",
        "        time.sleep(0.1)  # Sleep to allow other thread to execute\n",
        "\n",
        "if __name__ == \"__main__\":\n",
        "    # Create two threads for function_A and function_B\n",
        "    thread_A = threading.Thread(target=function_A)\n",
        "    thread_B = threading.Thread(target=function_B)\n",
        "\n",
        "    # Start both threads to run concurrently\n",
        "    thread_A.start()\n",
        "    thread_B.start()\n",
        "\n",
        "    # Wait for both threads to complete their tasks before terminating\n",
        "    thread_A.join()\n",
        "    thread_B.join()\n",
        "\n",
        "    print(\"\\nProgram terminated.\")"
      ],
      "metadata": {
        "colab": {
          "base_uri": "https://localhost:8080/"
        },
        "id": "VeuEk_fHefP4",
        "outputId": "e2c12c8e-f781-488f-f6fd-b5ac8b036aab"
      },
      "execution_count": null,
      "outputs": [
        {
          "output_type": "stream",
          "name": "stdout",
          "text": [
            "1 Generated random number: 44\n",
            "A 2 Generated random number: 7\n",
            "B 3 Generated random number: 100\n",
            "C 4 Generated random number: 79\n",
            "D 5 Generated random number: 17\n",
            "E Generated random number: 12\n",
            "\n",
            "Program terminated.\n"
          ]
        }
      ]
    }
  ]
}